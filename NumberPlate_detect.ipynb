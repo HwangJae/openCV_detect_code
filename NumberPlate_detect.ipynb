{
 "cells": [
  {
   "cell_type": "markdown",
   "metadata": {},
   "source": [
    "# 자동차 넘버판 인식 "
   ]
  },
  {
   "cell_type": "code",
   "execution_count": 1,
   "metadata": {},
   "outputs": [],
   "source": [
    "import cv2"
   ]
  },
  {
   "cell_type": "code",
   "execution_count": 18,
   "metadata": {},
   "outputs": [],
   "source": [
    "frameWidth = 640\n",
    "frameHeight = 480"
   ]
  },
  {
   "cell_type": "code",
   "execution_count": 22,
   "metadata": {},
   "outputs": [],
   "source": [
    "nPlateCascade = cv2.CascadeClassifier(\"haarcascade_russian_plate_number.xml\")\n",
    "minArea = 200\n",
    "color = (255,0,255)"
   ]
  },
  {
   "cell_type": "code",
   "execution_count": 36,
   "metadata": {},
   "outputs": [
    {
     "data": {
      "text/plain": [
       "array([[602, 332, 189,  63]], dtype=int32)"
      ]
     },
     "execution_count": 36,
     "metadata": {},
     "output_type": "execute_result"
    }
   ],
   "source": [
    "img = cv2.imread('car.jpg')\n",
    "imgGray = cv2.cvtColor(img, cv2.COLOR_BGR2GRAY)\n",
    "numberPlates = nPlateCascade.detectMultiScale(imgGray, 1.1, 10)\n",
    "numberPlates"
   ]
  },
  {
   "cell_type": "code",
   "execution_count": 56,
   "metadata": {},
   "outputs": [],
   "source": [
    "for (x,y,w,h) in numberPlates:\n",
    "    area = w* h\n",
    "    if area > minArea:\n",
    "        cv2.rectangle(img, (x,y), (x+y, y+h), (255,0,255), 2)\n",
    "        cv2.putText(img, \"Number Plate\", (x,y - 5), cv2.FONT_HERSHEY_COMPLEX_SMALL, 1, color, 0)\n",
    "        imgRoi = img[y:y + h, x: x+w]\n",
    "        cv2.imshow(\"ROI\",imgRoi)\n",
    "        \n",
    "    cv2.imshow(\"Result\", img)\n",
    "    cv2.waitKey(1000)\n",
    "    \n",
    "    cv2.imwrite(\"NoPlate.jpg\", imgRoi)\n",
    "    cv2.rectangle(img, (10,10), (100, 100), (200,0,0), cv2.FILLED)\n",
    "    cv2.putText(img, \"CAR NUMER\",(150, 265), cv2.FONT_HERSHEY_DUPLEX,2,(0,0,255), 2)\n",
    "    cv2.imshow(\"Result\", img)\n",
    "    cv2.waitKey(0)\n"
   ]
  },
  {
   "cell_type": "code",
   "execution_count": null,
   "metadata": {},
   "outputs": [],
   "source": []
  }
 ],
 "metadata": {
  "kernelspec": {
   "display_name": "Python 3",
   "language": "python",
   "name": "python3"
  },
  "language_info": {
   "codemirror_mode": {
    "name": "ipython",
    "version": 3
   },
   "file_extension": ".py",
   "mimetype": "text/x-python",
   "name": "python",
   "nbconvert_exporter": "python",
   "pygments_lexer": "ipython3",
   "version": "3.7.6"
  },
  "toc": {
   "base_numbering": 1,
   "nav_menu": {},
   "number_sections": true,
   "sideBar": true,
   "skip_h1_title": false,
   "title_cell": "Table of Contents",
   "title_sidebar": "Contents",
   "toc_cell": false,
   "toc_position": {},
   "toc_section_display": true,
   "toc_window_display": false
  }
 },
 "nbformat": 4,
 "nbformat_minor": 4
}
